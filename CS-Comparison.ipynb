{
 "cells": [
  {
   "cell_type": "code",
   "execution_count": 1,
   "metadata": {},
   "outputs": [],
   "source": [
    "import matplotlib.pyplot as plt\n",
    "plt.rcParams['axes.grid'] = True\n",
    "from CS.CS_Reconstruction import RecoCS\n",
    "from CS.GenerateFixedFID import GenerateFIDfixed\n",
    "import numpy as np\n",
    "from CS.ComparisonMetrics import hamming, RMSE, trapzoid, simpson, get_RecoTQSQ\n",
    "from numpy.fft import fft, ifft, fftshift"
   ]
  },
  {
   "cell_type": "code",
   "execution_count": 39,
   "metadata": {},
   "outputs": [],
   "source": [
    "csGen = GenerateFIDfixed(PhasecycleAngle=5,NumPhaseCycles=16,StartPhase=45)\n",
    "params, TQs = csGen.generateParamsFixed_TQ()\n",
    "SNRs = csGen.varySNR(start=40, stop=70)\n",
    "FIDs, x , params, SNRs = csGen.generateFIDsFixed(params, SNRs) # shape FIDs: (numFIDS, numphaseSteps)\n",
    "targetAtqsq_woNoise = np.repeat(np.transpose(params[:,2]/params[:,0])*100, len(SNRs))\n",
    "fidInput = FIDs"
   ]
  },
  {
   "cell_type": "code",
   "execution_count": 7,
   "metadata": {},
   "outputs": [
    {
     "name": "stdout",
     "output_type": "stream",
     "text": [
      "CS Alg.: NUSF\n",
      "X data adjusted correctly ?\n",
      "CS Alg.: NUSF\n",
      "X data adjusted correctly ?\n",
      "CS Alg.: NUSF\n",
      "X data adjusted correctly ?\n",
      "CS Alg.: NUSF\n",
      "X data adjusted correctly ?\n",
      "CS Alg.: NUSF\n",
      "X data adjusted correctly ?\n",
      "CS Alg.: NUSF\n",
      "X data adjusted correctly ?\n"
     ]
    }
   ],
   "source": [
    "### CS Results as function of acceleration factor ################\n",
    "csAlg = 'NUSF'\n",
    "AccFactors = [2,4, 6, 8, 12, 16]\n",
    "DataAll = []\n",
    "for f in AccFactors:\n",
    "    \n",
    "    Reco = RecoCS(DataFull=fidInput, CS_Algorithm=csAlg, samplingMethod='PoissonGap', accelerationFactor=f)\n",
    "    Reco.x = x # needed for NUSF    \n",
    "    out = Reco.csReconstruction()\n",
    "    TqSqAll = [a[2]/a[0] * 100 for a,_ in out]\n",
    "    DataAll.append(TqSqAll)\n",
    "    \n",
    "    \n",
    "    del Reco, out, TqSqAll\n",
    "    "
   ]
  },
  {
   "cell_type": "code",
   "execution_count": 8,
   "metadata": {},
   "outputs": [],
   "source": [
    "DataAll_NUSF = np.array(DataAll)"
   ]
  },
  {
   "cell_type": "code",
   "execution_count": 11,
   "metadata": {},
   "outputs": [
    {
     "name": "stdout",
     "output_type": "stream",
     "text": [
      "CS Alg.: IST-D\n",
      "CS Alg.: IST-D\n",
      "CS Alg.: IST-D\n",
      "CS Alg.: IST-D\n",
      "CS Alg.: IST-D\n",
      "CS Alg.: IST-D\n"
     ]
    }
   ],
   "source": [
    "### CS Results as function of acceleration factor for IST-D ################\n",
    "del DataAll\n",
    "csAlg = 'IST-D'\n",
    "AccFactors = [2,4, 6, 8, 12, 16]\n",
    "DataAll = []\n",
    "\n",
    "for f in AccFactors:\n",
    "    \n",
    "    Reco = RecoCS(DataFull=fidInput, CS_Algorithm=csAlg, samplingMethod='PoissonGap', accelerationFactor=f)  \n",
    "    out = Reco.csReconstruction()\n",
    "    ft_out = fftshift(fft(out))\n",
    "\n",
    "    DataAll.append(get_RecoTQSQ(np.real(ft_out)))\n",
    "    \n",
    "    \n",
    "    del out, ft_out"
   ]
  },
  {
   "cell_type": "code",
   "execution_count": 15,
   "metadata": {},
   "outputs": [],
   "source": [
    "DataAll_ISTd = np.array(DataAll)\n",
    "np.savetxt(\"CS_ISTd_1152_5.txt\",DataAll_ISTd, fmt='%.4f')"
   ]
  },
  {
   "cell_type": "code",
   "execution_count": 28,
   "metadata": {},
   "outputs": [
    {
     "name": "stdout",
     "output_type": "stream",
     "text": [
      "CS Alg.: IST-S\n",
      "CS Alg.: IST-S\n",
      "CS Alg.: IST-S\n",
      "CS Alg.: IST-S\n",
      "CS Alg.: IST-S\n",
      "CS Alg.: IST-S\n"
     ]
    }
   ],
   "source": [
    "### CS Results as function of acceleration factor for IST-D ################\n",
    "del DataAll\n",
    "csAlg = 'IST-S'\n",
    "AccFactors = [2,4, 6, 8, 12, 16]\n",
    "DataAll = []\n",
    "\n",
    "for f in AccFactors:\n",
    "    \n",
    "    Reco = RecoCS(DataFull=fidInput, CS_Algorithm=csAlg, samplingMethod='PoissonGap', accelerationFactor=f) \n",
    "    out=Reco.csReconstruction()\n",
    "    \n",
    "    ft_out = fftshift(fft(out))\n",
    "\n",
    "    DataAll.append(get_RecoTQSQ(np.real(ft_out)))\n",
    "    \n",
    "    \n",
    "    del ft_out, Reco\n",
    "DataAll_ISTs = np.array(DataAll)\n",
    "del DataAll"
   ]
  },
  {
   "cell_type": "code",
   "execution_count": 18,
   "metadata": {},
   "outputs": [
    {
     "data": {
      "text/plain": [
       "10.0"
      ]
     },
     "execution_count": 18,
     "metadata": {},
     "output_type": "execute_result"
    }
   ],
   "source": [
    "targetAtqsq_woNoise[30]"
   ]
  },
  {
   "cell_type": "code",
   "execution_count": 40,
   "metadata": {},
   "outputs": [
    {
     "data": {
      "image/png": "[encoded data removed]",
      "text/plain": [
       "<Figure size 1152x648 with 1 Axes>"
      ]
     },
     "metadata": {
      "needs_background": "light"
     },
     "output_type": "display_data"
    }
   ],
   "source": [
    "plt.figure(figsize=(16,9))\n",
    "plt.plot(AccFactors, DataAll_NUSF[:,34])\n",
    "plt.plot(AccFactors, DataAll_ISTd[:,34]*100)\n",
    "plt.plot(AccFactors, DataAll_ISTs[:,34]*100)\n",
    "plt.hlines(targetAtqsq_woNoise[34], xmin=AccFactors[0],xmax=AccFactors[-1]+1)\n",
    "plt.xlabel(\"USF\")\n",
    "plt.ylabel(r\"$A_{TQ}/A_{SQ}$ [%]\")\n",
    "plt.show()"
   ]
  },
  {
   "cell_type": "code",
   "execution_count": 37,
   "metadata": {
    "scrolled": true
   },
   "outputs": [
    {
     "data": {
      "text/plain": [
       "array([ 0.5,  0.5,  0.5,  1. ,  1. ,  1. ,  2. ,  2. ,  2. ,  3. ,  3. ,\n",
       "        3. ,  4. ,  4. ,  4. ,  5. ,  5. ,  5. ,  6. ,  6. ,  6. ,  7. ,\n",
       "        7. ,  7. ,  8. ,  8. ,  8. ,  9. ,  9. ,  9. , 10. , 10. , 10. ,\n",
       "       12.5, 12.5, 12.5, 15. , 15. , 15. , 17.5, 17.5, 17.5, 20. , 20. ,\n",
       "       20. , 22.5, 22.5, 22.5, 25. , 25. , 25. ])"
      ]
     },
     "execution_count": 37,
     "metadata": {},
     "output_type": "execute_result"
    }
   ],
   "source": [
    "targetAtqsq_woNoise"
   ]
  },
  {
   "cell_type": "code",
   "execution_count": null,
   "metadata": {},
   "outputs": [],
   "source": []
  }
 ],
 "metadata": {
  "kernelspec": {
   "display_name": "Python 3",
   "language": "python",
   "name": "python3"
  },
  "language_info": {
   "codemirror_mode": {
    "name": "ipython",
    "version": 3
   },
   "file_extension": ".py",
   "mimetype": "text/x-python",
   "name": "python",
   "nbconvert_exporter": "python",
   "pygments_lexer": "ipython3",
   "version": "3.7.3"
  }
 },
 "nbformat": 4,
 "nbformat_minor": 2
}
